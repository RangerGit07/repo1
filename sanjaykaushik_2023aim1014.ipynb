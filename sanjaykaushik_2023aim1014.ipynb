{
  "nbformat": 4,
  "nbformat_minor": 0,
  "metadata": {
    "colab": {
      "provenance": []
    },
    "kernelspec": {
      "name": "python3",
      "display_name": "Python 3"
    },
    "language_info": {
      "name": "python"
    }
  },
  "cells": [
    {
      "cell_type": "code",
      "source": [
        "import pandas as pd\n",
        "\n",
        "class Node:\n",
        "  def __init__(self,val):\n",
        "    self.data=val\n",
        "    self.left=None\n",
        "    self.right=None\n",
        "\n",
        "\n",
        "def insert (root,val,depth=0):\n",
        "    if (root==None):\n",
        "      root = Node(val)\n",
        "      return root\n",
        "\n",
        "    else:\n",
        "      i=depth%4\n",
        "      if(root.data[i]>val[i]):\n",
        "        root.left = insert(root.left,val,depth+1)\n",
        "      else:\n",
        "        root.right = insert(root.right,val,depth+1)\n",
        "\n",
        "    return root\n",
        "\n",
        "def search (root,target,depth=0):\n",
        "  if root is None:\n",
        "    return None\n",
        "\n",
        "  i = depth%4\n",
        "  if root.data==target:\n",
        "    print(\"Point found\")\n",
        "    return root.data\n",
        "\n",
        "  if target[i] < root.data[i]:\n",
        "    return search(root.left, target,depth+1)\n",
        "  else:\n",
        "    return search(root.right, target,depth+1)\n",
        "\n",
        "\n",
        "root=None;\n",
        "#reading data in list form\n",
        "cars=pd.read_csv(\"Dataset.csv\").values.tolist()\n",
        "for d in cars:\n",
        "  root=insert(root,d)\n",
        "\n",
        "#sample search\n",
        "target=[50,3.5,5,35000]\n",
        "search (root,target)\n",
        "\n"
      ],
      "metadata": {
        "colab": {
          "base_uri": "https://localhost:8080/"
        },
        "id": "f-SdRlkO8I-N",
        "outputId": "c8846694-f1a0-425d-c334-6eb6f569ff16"
      },
      "execution_count": 45,
      "outputs": [
        {
          "output_type": "stream",
          "name": "stdout",
          "text": [
            "Point found\n",
            "hello world\n"
          ]
        }
      ]
    },
    {
      "cell_type": "markdown",
      "source": [
        "# New Section"
      ],
      "metadata": {
        "id": "S3G3xKmSrHHb"
      }
    }
  ]
}